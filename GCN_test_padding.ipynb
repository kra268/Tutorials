{
  "nbformat": 4,
  "nbformat_minor": 0,
  "metadata": {
    "colab": {
      "provenance": [],
      "authorship_tag": "ABX9TyP1YQLhuFYC/p69yLxZPLgh",
      "include_colab_link": true
    },
    "kernelspec": {
      "name": "python3",
      "display_name": "Python 3"
    },
    "language_info": {
      "name": "python"
    },
    "accelerator": "GPU",
    "gpuClass": "standard"
  },
  "cells": [
    {
      "cell_type": "markdown",
      "metadata": {
        "id": "view-in-github",
        "colab_type": "text"
      },
      "source": [
        "<a href=\"https://colab.research.google.com/github/kra268/Tutorials/blob/master/GCN_test_padding.ipynb\" target=\"_parent\"><img src=\"https://colab.research.google.com/assets/colab-badge.svg\" alt=\"Open In Colab\"/></a>"
      ]
    },
    {
      "cell_type": "code",
      "execution_count": 107,
      "metadata": {
        "colab": {
          "base_uri": "https://localhost:8080/"
        },
        "id": "BMqyRiYIrbTf",
        "outputId": "0e755fef-041b-49b8-e6b6-e976b1a00935"
      },
      "outputs": [
        {
          "output_type": "stream",
          "name": "stdout",
          "text": [
            "Sat Apr 29 23:20:13 2023       \n",
            "+-----------------------------------------------------------------------------+\n",
            "| NVIDIA-SMI 525.85.12    Driver Version: 525.85.12    CUDA Version: 12.0     |\n",
            "|-------------------------------+----------------------+----------------------+\n",
            "| GPU  Name        Persistence-M| Bus-Id        Disp.A | Volatile Uncorr. ECC |\n",
            "| Fan  Temp  Perf  Pwr:Usage/Cap|         Memory-Usage | GPU-Util  Compute M. |\n",
            "|                               |                      |               MIG M. |\n",
            "|===============================+======================+======================|\n",
            "|   0  Tesla T4            Off  | 00000000:00:04.0 Off |                    0 |\n",
            "| N/A   34C    P8     9W /  70W |      3MiB / 15360MiB |      0%      Default |\n",
            "|                               |                      |                  N/A |\n",
            "+-------------------------------+----------------------+----------------------+\n",
            "                                                                               \n",
            "+-----------------------------------------------------------------------------+\n",
            "| Processes:                                                                  |\n",
            "|  GPU   GI   CI        PID   Type   Process name                  GPU Memory |\n",
            "|        ID   ID                                                   Usage      |\n",
            "|=============================================================================|\n",
            "|  No running processes found                                                 |\n",
            "+-----------------------------------------------------------------------------+\n"
          ]
        }
      ],
      "source": [
        "!nvidia-smi"
      ]
    },
    {
      "cell_type": "code",
      "source": [
        "!pip install torch torchvision"
      ],
      "metadata": {
        "colab": {
          "base_uri": "https://localhost:8080/"
        },
        "id": "W0vnHVIWrjn2",
        "outputId": "dc999625-6d01-43c2-84c0-ac7415f6ec9e"
      },
      "execution_count": 108,
      "outputs": [
        {
          "output_type": "stream",
          "name": "stdout",
          "text": [
            "Looking in indexes: https://pypi.org/simple, https://us-python.pkg.dev/colab-wheels/public/simple/\n",
            "Requirement already satisfied: torch in /usr/local/lib/python3.10/dist-packages (2.0.0+cu118)\n",
            "Requirement already satisfied: torchvision in /usr/local/lib/python3.10/dist-packages (0.15.1+cu118)\n",
            "Requirement already satisfied: typing-extensions in /usr/local/lib/python3.10/dist-packages (from torch) (4.5.0)\n",
            "Requirement already satisfied: networkx in /usr/local/lib/python3.10/dist-packages (from torch) (3.1)\n",
            "Requirement already satisfied: jinja2 in /usr/local/lib/python3.10/dist-packages (from torch) (3.1.2)\n",
            "Requirement already satisfied: filelock in /usr/local/lib/python3.10/dist-packages (from torch) (3.12.0)\n",
            "Requirement already satisfied: sympy in /usr/local/lib/python3.10/dist-packages (from torch) (1.11.1)\n",
            "Requirement already satisfied: triton==2.0.0 in /usr/local/lib/python3.10/dist-packages (from torch) (2.0.0)\n",
            "Requirement already satisfied: lit in /usr/local/lib/python3.10/dist-packages (from triton==2.0.0->torch) (16.0.2)\n",
            "Requirement already satisfied: cmake in /usr/local/lib/python3.10/dist-packages (from triton==2.0.0->torch) (3.25.2)\n",
            "Requirement already satisfied: requests in /usr/local/lib/python3.10/dist-packages (from torchvision) (2.27.1)\n",
            "Requirement already satisfied: pillow!=8.3.*,>=5.3.0 in /usr/local/lib/python3.10/dist-packages (from torchvision) (8.4.0)\n",
            "Requirement already satisfied: numpy in /usr/local/lib/python3.10/dist-packages (from torchvision) (1.22.4)\n",
            "Requirement already satisfied: MarkupSafe>=2.0 in /usr/local/lib/python3.10/dist-packages (from jinja2->torch) (2.1.2)\n",
            "Requirement already satisfied: certifi>=2017.4.17 in /usr/local/lib/python3.10/dist-packages (from requests->torchvision) (2022.12.7)\n",
            "Requirement already satisfied: urllib3<1.27,>=1.21.1 in /usr/local/lib/python3.10/dist-packages (from requests->torchvision) (1.26.15)\n",
            "Requirement already satisfied: idna<4,>=2.5 in /usr/local/lib/python3.10/dist-packages (from requests->torchvision) (3.4)\n",
            "Requirement already satisfied: charset-normalizer~=2.0.0 in /usr/local/lib/python3.10/dist-packages (from requests->torchvision) (2.0.12)\n",
            "Requirement already satisfied: mpmath>=0.19 in /usr/local/lib/python3.10/dist-packages (from sympy->torch) (1.3.0)\n"
          ]
        }
      ]
    },
    {
      "cell_type": "code",
      "source": [
        "import numpy as np\n",
        "import torch\n",
        "from torch.utils.data import Dataset, DataLoader"
      ],
      "metadata": {
        "id": "UdrtE6DyryZn"
      },
      "execution_count": 109,
      "outputs": []
    },
    {
      "cell_type": "code",
      "source": [
        "# Define a custom dataset class for the graph data\n",
        "class GraphDataset(Dataset):\n",
        "    def __init__(self, graph_list):\n",
        "        self.graph_list = graph_list\n",
        "    \n",
        "    def __len__(self):\n",
        "        return len(self.graph_list)\n",
        "    \n",
        "    def __getitem__(self, index):\n",
        "        return self.graph_list[index]"
      ],
      "metadata": {
        "id": "suKX-Ivzr4aU"
      },
      "execution_count": 110,
      "outputs": []
    },
    {
      "cell_type": "code",
      "source": [
        "# Define a function to pad the adjacency matrix\n",
        "def pad_adj_matrix(adj_matrix, max_nodes):\n",
        "    padded_adj_matrix = np.zeros((max_nodes, max_nodes))\n",
        "    padded_adj_matrix[:adj_matrix.shape[0], :adj_matrix.shape[1]] = adj_matrix\n",
        "    return padded_adj_matrix"
      ],
      "metadata": {
        "id": "RmD38uilr7Za"
      },
      "execution_count": 111,
      "outputs": []
    },
    {
      "cell_type": "code",
      "source": [
        "# Define a function to create the adjacency matrix\n",
        "def create_adj_matrix(edge_list, num_nodes):\n",
        "    adj_matrix = np.zeros((num_nodes, num_nodes))\n",
        "    for edge in edge_list:\n",
        "        adj_matrix[edge[0], edge[1]] = 1\n",
        "        adj_matrix[edge[1], edge[0]] = 1\n",
        "    return adj_matrix"
      ],
      "metadata": {
        "id": "E69JaS7kr9xA"
      },
      "execution_count": 112,
      "outputs": []
    },
    {
      "cell_type": "code",
      "source": [
        "# Define the graph dataset\n",
        "graph_list = [\n",
        "    {\n",
        "        'num_nodes': 5,\n",
        "        'edge_list': [(0, 1), (1, 2), (2, 3), (3, 4)]\n",
        "    },\n",
        "    {\n",
        "        'num_nodes': 4,\n",
        "        'edge_list': [(0, 1), (1, 2), (2, 3)]\n",
        "    },\n",
        "    {\n",
        "        'num_nodes': 6,\n",
        "        'edge_list': [(0, 1), (1, 2), (2, 3), (3, 4), (4, 5)]\n",
        "    }\n",
        "]"
      ],
      "metadata": {
        "id": "fdO4A56AsA7i"
      },
      "execution_count": 113,
      "outputs": []
    },
    {
      "cell_type": "code",
      "source": [
        "# Create the adjacency matrix with padding\n",
        "max_nodes = max([graph['num_nodes'] for graph in graph_list])\n",
        "adj_matrix_list = [pad_adj_matrix(create_adj_matrix(graph['edge_list'], graph['num_nodes']), max_nodes) for graph in graph_list]"
      ],
      "metadata": {
        "id": "9plr7zPAsGz0"
      },
      "execution_count": 114,
      "outputs": []
    },
    {
      "cell_type": "code",
      "source": [
        "# Convert the adjacency matrices to PyTorch tensors\n",
        "adj_matrix_tensor_list = [torch.Tensor(adj_matrix) for adj_matrix in adj_matrix_list]"
      ],
      "metadata": {
        "id": "B3xZ0QBPsKD3"
      },
      "execution_count": 115,
      "outputs": []
    },
    {
      "cell_type": "code",
      "source": [
        "# Define the DataLoader\n",
        "graph_dataset = GraphDataset(adj_matrix_tensor_list)\n",
        "graph_dataloader = DataLoader(graph_dataset, batch_size=2, shuffle=True)"
      ],
      "metadata": {
        "id": "rI2kmLNOsMtW"
      },
      "execution_count": 116,
      "outputs": []
    },
    {
      "cell_type": "code",
      "source": [
        "# Define the neural network\n",
        "class GraphNet(torch.nn.Module):\n",
        "    def __init__(self, input_size, hidden_size, output_size):\n",
        "        super(GraphNet, self).__init__()\n",
        "        self.fc1 = torch.nn.Linear(input_size, hidden_size)\n",
        "        self.fc2 = torch.nn.Linear(hidden_size, output_size)\n",
        "    \n",
        "    def forward(self, x):\n",
        "        x = torch.relu(self.fc1(x))\n",
        "        x = self.fc2(x)\n",
        "        return x\n"
      ],
      "metadata": {
        "id": "B2D9H20RsPh0"
      },
      "execution_count": 117,
      "outputs": []
    },
    {
      "cell_type": "code",
      "source": [
        "# Test the DataLoader\n",
        "for batch_idx, batch in enumerate(graph_dataloader):\n",
        "    print(batch.shape) # (batch_size, max_nodes, max_nodes)"
      ],
      "metadata": {
        "colab": {
          "base_uri": "https://localhost:8080/"
        },
        "id": "8b4FZ0tasSDd",
        "outputId": "ae36bacf-6d93-4533-e073-3ff92c1aa9e2"
      },
      "execution_count": 118,
      "outputs": [
        {
          "output_type": "stream",
          "name": "stdout",
          "text": [
            "torch.Size([2, 6, 6])\n",
            "torch.Size([1, 6, 6])\n"
          ]
        }
      ]
    },
    {
      "cell_type": "code",
      "source": [
        "adj_matrix_list"
      ],
      "metadata": {
        "colab": {
          "base_uri": "https://localhost:8080/"
        },
        "id": "g0WMvumHtmDQ",
        "outputId": "54534bc1-a1ee-4ee2-b921-ec7586079fe0"
      },
      "execution_count": 119,
      "outputs": [
        {
          "output_type": "execute_result",
          "data": {
            "text/plain": [
              "[array([[0., 1., 0., 0., 0., 0.],\n",
              "        [1., 0., 1., 0., 0., 0.],\n",
              "        [0., 1., 0., 1., 0., 0.],\n",
              "        [0., 0., 1., 0., 1., 0.],\n",
              "        [0., 0., 0., 1., 0., 0.],\n",
              "        [0., 0., 0., 0., 0., 0.]]),\n",
              " array([[0., 1., 0., 0., 0., 0.],\n",
              "        [1., 0., 1., 0., 0., 0.],\n",
              "        [0., 1., 0., 1., 0., 0.],\n",
              "        [0., 0., 1., 0., 0., 0.],\n",
              "        [0., 0., 0., 0., 0., 0.],\n",
              "        [0., 0., 0., 0., 0., 0.]]),\n",
              " array([[0., 1., 0., 0., 0., 0.],\n",
              "        [1., 0., 1., 0., 0., 0.],\n",
              "        [0., 1., 0., 1., 0., 0.],\n",
              "        [0., 0., 1., 0., 1., 0.],\n",
              "        [0., 0., 0., 1., 0., 1.],\n",
              "        [0., 0., 0., 0., 1., 0.]])]"
            ]
          },
          "metadata": {},
          "execution_count": 119
        }
      ]
    },
    {
      "cell_type": "code",
      "source": [
        "import torch.optim as optim"
      ],
      "metadata": {
        "id": "3IYUMYQJudgc"
      },
      "execution_count": 120,
      "outputs": []
    },
    {
      "cell_type": "code",
      "source": [
        "# Define the hyperparameters\n",
        "input_size = max_nodes * max_nodes\n",
        "hidden_size = 64\n",
        "output_size = 1\n",
        "lr = 0.01\n",
        "num_epochs = 100"
      ],
      "metadata": {
        "id": "usCX3djKvGp4"
      },
      "execution_count": 121,
      "outputs": []
    },
    {
      "cell_type": "code",
      "source": [
        "# Create the model and optimizer\n",
        "model = GraphNet(input_size, hidden_size, output_size)\n",
        "optimizer = optim.Adam(model.parameters(), lr=lr)"
      ],
      "metadata": {
        "id": "tgp75oHOvJPv"
      },
      "execution_count": 122,
      "outputs": []
    },
    {
      "cell_type": "code",
      "source": [
        "# Train the model\n",
        "for epoch in range(num_epochs):\n",
        "    for batch_idx, batch in enumerate(graph_dataloader):\n",
        "        # Forward pass\n",
        "        X = batch.view(-1, input_size)\n",
        "        y = torch.rand((batch.shape[0], 1))\n",
        "        y_pred = model(X)\n",
        "        loss = torch.nn.functional.mse_loss(y_pred, y)\n",
        "        \n",
        "        # Backward pass and optimization\n",
        "        optimizer.zero_grad()\n",
        "        loss.backward()\n",
        "        optimizer.step()\n",
        "        \n",
        "    if epoch % 10 == 0:\n",
        "        print(f\"Epoch {epoch}: loss={loss.item()}\")\n",
        "\n",
        "print(\"Training finished!\")\n"
      ],
      "metadata": {
        "colab": {
          "base_uri": "https://localhost:8080/"
        },
        "id": "RKKypHx6tnSq",
        "outputId": "7c9d9006-e9ab-47f5-9c7c-976100e1b4f0"
      },
      "execution_count": 123,
      "outputs": [
        {
          "output_type": "stream",
          "name": "stdout",
          "text": [
            "Epoch 0: loss=0.014125511981546879\n",
            "Epoch 10: loss=0.12451121211051941\n",
            "Epoch 20: loss=0.2345961034297943\n",
            "Epoch 30: loss=0.12322075664997101\n",
            "Epoch 40: loss=0.0776350200176239\n",
            "Epoch 50: loss=0.20254795253276825\n",
            "Epoch 60: loss=0.008337586186826229\n",
            "Epoch 70: loss=0.023341089487075806\n",
            "Epoch 80: loss=0.026309411972761154\n",
            "Epoch 90: loss=0.2413002997636795\n",
            "Training finished!\n"
          ]
        }
      ]
    },
    {
      "cell_type": "code",
      "source": [
        "import random\n",
        "import networkx as nx\n",
        "\n",
        "num_graphs = 100\n",
        "min_nodes = 5\n",
        "max_nodes = 20\n",
        "\n",
        "graph_list = []\n",
        "\n",
        "for i in range(num_graphs):\n",
        "    num_nodes = random.randint(min_nodes, max_nodes)\n",
        "    G = nx.dense_gnm_random_graph(num_nodes, num_nodes*(num_nodes-1)//4)\n",
        "    graph_list.append(G)\n",
        "\n",
        "print(f\"Generated {num_graphs} graph data with varying number of nodes.\")\n"
      ],
      "metadata": {
        "colab": {
          "base_uri": "https://localhost:8080/"
        },
        "id": "_lP0sB10vO7m",
        "outputId": "8985581f-48d9-4e6e-e886-2977a24eb7d5"
      },
      "execution_count": 124,
      "outputs": [
        {
          "output_type": "stream",
          "name": "stdout",
          "text": [
            "Generated 100 graph data with varying number of nodes.\n"
          ]
        }
      ]
    },
    {
      "cell_type": "code",
      "source": [
        "len(graph_list)"
      ],
      "metadata": {
        "colab": {
          "base_uri": "https://localhost:8080/"
        },
        "id": "mUhujVWsYOYx",
        "outputId": "6971cfc2-ee9e-46bd-a6b4-f39b54b0f6a6"
      },
      "execution_count": 125,
      "outputs": [
        {
          "output_type": "execute_result",
          "data": {
            "text/plain": [
              "100"
            ]
          },
          "metadata": {},
          "execution_count": 125
        }
      ]
    },
    {
      "cell_type": "code",
      "source": [
        "max_nodes = max([graph.number_of_nodes() for graph in graph_list])\n",
        "max_nodes"
      ],
      "metadata": {
        "colab": {
          "base_uri": "https://localhost:8080/"
        },
        "id": "kBmT16HVYXLP",
        "outputId": "4aacc472-a1a2-4d67-c223-4a64084ed8ab"
      },
      "execution_count": 126,
      "outputs": [
        {
          "output_type": "execute_result",
          "data": {
            "text/plain": [
              "20"
            ]
          },
          "metadata": {},
          "execution_count": 126
        }
      ]
    },
    {
      "cell_type": "code",
      "source": [
        "adj_matrix_list = [pad_adj_matrix(create_adj_matrix(graph.edges(), graph.number_of_nodes()), max_nodes) for graph in graph_list]\n",
        "len(adj_matrix_list)"
      ],
      "metadata": {
        "colab": {
          "base_uri": "https://localhost:8080/"
        },
        "id": "GCk-qvIeaejE",
        "outputId": "9f245702-cc49-422a-c3ac-f9974baf5e22"
      },
      "execution_count": 127,
      "outputs": [
        {
          "output_type": "execute_result",
          "data": {
            "text/plain": [
              "100"
            ]
          },
          "metadata": {},
          "execution_count": 127
        }
      ]
    },
    {
      "cell_type": "code",
      "source": [
        "# Convert to Tensor\n",
        "adj_matrix_tensor_list = [torch.Tensor(adj_matrix) for adj_matrix in adj_matrix_list]\n",
        "\n",
        "# Define the DataLoader\n",
        "graph_dataset = GraphDataset(adj_matrix_tensor_list)\n"
      ],
      "metadata": {
        "id": "44EyEnS_bj-v"
      },
      "execution_count": 128,
      "outputs": []
    },
    {
      "cell_type": "code",
      "source": [
        "# Define the hyperparameters\n",
        "input_size = max_nodes * max_nodes\n",
        "hidden_size = 64\n",
        "output_size = 1\n",
        "lr = 0.01\n",
        "num_epochs = 100"
      ],
      "metadata": {
        "id": "pZmtADibdHfL"
      },
      "execution_count": 129,
      "outputs": []
    },
    {
      "cell_type": "code",
      "source": [
        "# Generating random target values\n",
        "# It is important to note that the predictions\n",
        "# will be terrible since, there is no real\n",
        "# relationship between the target and the features.\n",
        "import random\n",
        "\n",
        "target_list = []\n",
        "\n",
        "for i in range(num_graphs):\n",
        "    target = random.uniform(0, 1)\n",
        "    target_list.append(target)\n",
        "\n",
        "target_list = torch.Tensor(target_list)\n",
        "print(f\"Generated {num_graphs} arbitrary target values.\")\n"
      ],
      "metadata": {
        "colab": {
          "base_uri": "https://localhost:8080/"
        },
        "id": "e5b3jfzLdnF1",
        "outputId": "29a0da74-4d64-4ef0-ac39-8badb1c9c341"
      },
      "execution_count": 130,
      "outputs": [
        {
          "output_type": "stream",
          "name": "stdout",
          "text": [
            "Generated 100 arbitrary target values.\n"
          ]
        }
      ]
    },
    {
      "cell_type": "code",
      "source": [
        "# Train-test split\n",
        "from sklearn.model_selection import train_test_split\n",
        "\n",
        "X_train, X_test, y_train, y_test = train_test_split(graph_dataset, target_list, test_size=0.2, random_state=42)\n",
        "len(X_test)"
      ],
      "metadata": {
        "colab": {
          "base_uri": "https://localhost:8080/"
        },
        "id": "llelpEU3d6-u",
        "outputId": "57a97acf-11ab-4ac3-bf16-10eae016c6c0"
      },
      "execution_count": 131,
      "outputs": [
        {
          "output_type": "execute_result",
          "data": {
            "text/plain": [
              "20"
            ]
          },
          "metadata": {},
          "execution_count": 131
        }
      ]
    },
    {
      "cell_type": "code",
      "source": [
        "# This loader is important for training and testing \n",
        "graph_dataloader = DataLoader(X_train, batch_size=10, shuffle=True)\n",
        "# Test the DataLoader\n",
        "for batch_idx, batch in enumerate(graph_dataloader):\n",
        "    print(batch.shape) # (batch_size, max_nodes, max_nodes)"
      ],
      "metadata": {
        "colab": {
          "base_uri": "https://localhost:8080/"
        },
        "id": "-91OfLEde4x2",
        "outputId": "1ed77281-9e31-4016-a15f-206c31a9cd70"
      },
      "execution_count": 132,
      "outputs": [
        {
          "output_type": "stream",
          "name": "stdout",
          "text": [
            "torch.Size([10, 20, 20])\n",
            "torch.Size([10, 20, 20])\n",
            "torch.Size([10, 20, 20])\n",
            "torch.Size([10, 20, 20])\n",
            "torch.Size([10, 20, 20])\n",
            "torch.Size([10, 20, 20])\n",
            "torch.Size([10, 20, 20])\n",
            "torch.Size([10, 20, 20])\n"
          ]
        }
      ]
    },
    {
      "cell_type": "code",
      "source": [
        "# Create the model and optimizer\n",
        "model = GraphNet(input_size, hidden_size, output_size)\n",
        "optimizer = optim.Adam(model.parameters(), lr=lr)"
      ],
      "metadata": {
        "id": "3JRgOcrPdTSo"
      },
      "execution_count": 133,
      "outputs": []
    },
    {
      "cell_type": "code",
      "source": [
        "# Random target values\n",
        "y = torch.rand((batch.shape[0], 1))\n",
        "y"
      ],
      "metadata": {
        "colab": {
          "base_uri": "https://localhost:8080/"
        },
        "id": "ahtNtps6gMzk",
        "outputId": "72461465-66ec-4d0e-d779-2657e18be669"
      },
      "execution_count": 134,
      "outputs": [
        {
          "output_type": "execute_result",
          "data": {
            "text/plain": [
              "tensor([[0.2199],\n",
              "        [0.5193],\n",
              "        [0.4534],\n",
              "        [0.3662],\n",
              "        [0.8717],\n",
              "        [0.2991],\n",
              "        [0.8288],\n",
              "        [0.7488],\n",
              "        [0.1987],\n",
              "        [0.0511]])"
            ]
          },
          "metadata": {},
          "execution_count": 134
        }
      ]
    },
    {
      "cell_type": "code",
      "source": [
        "# Train the model\n",
        "for epoch in range(num_epochs):\n",
        "    for batch_idx, batch in enumerate(graph_dataloader):\n",
        "        # Forward pass\n",
        "        X = batch.view(-1, input_size)\n",
        "        y = y_train\n",
        "        y_pred = model(X)\n",
        "        loss = torch.nn.functional.mse_loss(y_pred, y)\n",
        "        \n",
        "        # Backward pass and optimization\n",
        "        optimizer.zero_grad()\n",
        "        loss.backward()\n",
        "        optimizer.step()\n",
        "        \n",
        "    if epoch % 10 == 0:\n",
        "        print(f\"Epoch {epoch}: loss={loss.item()}\")\n",
        "\n",
        "print(\"Training finished!\")\n"
      ],
      "metadata": {
        "colab": {
          "base_uri": "https://localhost:8080/"
        },
        "id": "NG4On_iUdYhD",
        "outputId": "99d74557-1787-48bc-b7ed-dc60b879dc9e"
      },
      "execution_count": 135,
      "outputs": [
        {
          "output_type": "stream",
          "name": "stdout",
          "text": [
            "Epoch 0: loss=0.23434264957904816\n"
          ]
        },
        {
          "output_type": "stream",
          "name": "stderr",
          "text": [
            "<ipython-input-135-54c004994944>:8: UserWarning: Using a target size (torch.Size([80])) that is different to the input size (torch.Size([10, 1])). This will likely lead to incorrect results due to broadcasting. Please ensure they have the same size.\n",
            "  loss = torch.nn.functional.mse_loss(y_pred, y)\n"
          ]
        },
        {
          "output_type": "stream",
          "name": "stdout",
          "text": [
            "Epoch 10: loss=0.08817212283611298\n",
            "Epoch 20: loss=0.08734533190727234\n",
            "Epoch 30: loss=0.08712083846330643\n",
            "Epoch 40: loss=0.08719095587730408\n",
            "Epoch 50: loss=0.08712425827980042\n",
            "Epoch 60: loss=0.08722874522209167\n",
            "Epoch 70: loss=0.08718523383140564\n",
            "Epoch 80: loss=0.0871194452047348\n",
            "Epoch 90: loss=0.0871061310172081\n",
            "Training finished!\n"
          ]
        }
      ]
    },
    {
      "cell_type": "code",
      "source": [
        "# Demo: significance of view()\n",
        "# Used for reshaping the tensor in PyTorch\n",
        "X_check = batch.view(-1, input_size)\n",
        "X_check[0]"
      ],
      "metadata": {
        "colab": {
          "base_uri": "https://localhost:8080/"
        },
        "id": "Qm1QTQk647WP",
        "outputId": "7fb9ffa0-45ac-447e-f146-3b7491189679"
      },
      "execution_count": 136,
      "outputs": [
        {
          "output_type": "execute_result",
          "data": {
            "text/plain": [
              "tensor([0., 0., 0., 0., 1., 0., 0., 1., 0., 0., 0., 1., 0., 0., 1., 1., 1., 1.,\n",
              "        0., 1., 0., 0., 0., 1., 0., 0., 1., 1., 1., 1., 1., 0., 0., 1., 1., 0.,\n",
              "        1., 1., 0., 0., 0., 0., 0., 1., 1., 1., 1., 1., 1., 0., 0., 1., 1., 0.,\n",
              "        1., 0., 1., 1., 1., 0., 0., 1., 1., 0., 0., 0., 0., 1., 0., 1., 1., 1.,\n",
              "        0., 0., 1., 0., 0., 1., 0., 0., 1., 0., 1., 0., 0., 1., 0., 0., 0., 1.,\n",
              "        0., 0., 0., 1., 0., 1., 1., 1., 0., 1., 0., 0., 1., 0., 1., 0., 0., 0.,\n",
              "        0., 0., 0., 0., 1., 0., 1., 1., 1., 0., 0., 1., 0., 1., 1., 0., 0., 0.,\n",
              "        0., 1., 1., 1., 0., 0., 0., 1., 1., 0., 1., 0., 0., 1., 1., 1., 1., 1.,\n",
              "        0., 0., 1., 0., 1., 0., 0., 1., 1., 0., 0., 1., 0., 0., 0., 1., 0., 1.,\n",
              "        1., 0., 0., 0., 1., 1., 0., 0., 0., 0., 0., 0., 1., 1., 0., 1., 1., 1.,\n",
              "        0., 1., 0., 1., 1., 0., 1., 0., 0., 0., 0., 0., 1., 1., 0., 0., 1., 0.,\n",
              "        0., 1., 0., 1., 0., 1., 0., 0., 0., 0., 0., 0., 0., 0., 0., 1., 0., 0.,\n",
              "        0., 1., 0., 0., 1., 0., 1., 1., 0., 0., 0., 1., 0., 0., 0., 0., 1., 1.,\n",
              "        1., 1., 0., 1., 1., 0., 0., 0., 1., 0., 0., 1., 0., 1., 0., 1., 0., 1.,\n",
              "        0., 0., 1., 1., 0., 0., 1., 1., 0., 1., 0., 0., 1., 0., 1., 0., 0., 1.,\n",
              "        1., 1., 0., 0., 1., 0., 1., 1., 0., 0., 1., 1., 1., 1., 0., 1., 1., 0.,\n",
              "        1., 0., 0., 1., 1., 1., 0., 1., 1., 0., 1., 1., 1., 0., 0., 0., 1., 1.,\n",
              "        0., 1., 1., 0., 0., 1., 1., 0., 1., 0., 1., 1., 0., 1., 1., 1., 1., 0.,\n",
              "        1., 1., 1., 0., 0., 1., 0., 0., 0., 1., 1., 1., 0., 1., 0., 1., 1., 1.,\n",
              "        1., 1., 1., 0., 0., 0., 1., 0., 1., 1., 0., 1., 0., 1., 1., 0., 1., 1.,\n",
              "        0., 0., 1., 0., 0., 0., 0., 0., 1., 0., 0., 1., 1., 0., 1., 0., 0., 1.,\n",
              "        0., 0., 1., 0., 0., 0., 1., 1., 1., 1., 1., 1., 0., 0., 1., 0., 1., 1.,\n",
              "        1., 1., 0., 0.])"
            ]
          },
          "metadata": {},
          "execution_count": 136
        }
      ]
    },
    {
      "cell_type": "code",
      "source": [
        "# Overview of the trained model\n",
        "model"
      ],
      "metadata": {
        "colab": {
          "base_uri": "https://localhost:8080/"
        },
        "id": "7UdYBC4hgojG",
        "outputId": "0f908794-e452-4db4-dd4c-1f7ae3d26a95"
      },
      "execution_count": 137,
      "outputs": [
        {
          "output_type": "execute_result",
          "data": {
            "text/plain": [
              "GraphNet(\n",
              "  (fc1): Linear(in_features=400, out_features=64, bias=True)\n",
              "  (fc2): Linear(in_features=64, out_features=1, bias=True)\n",
              ")"
            ]
          },
          "metadata": {},
          "execution_count": 137
        }
      ]
    },
    {
      "cell_type": "code",
      "source": [
        "# All the test set is compiled into one tensor\n",
        "# Hence we need the DataLoader\n",
        "X_test[0]"
      ],
      "metadata": {
        "colab": {
          "base_uri": "https://localhost:8080/"
        },
        "id": "c5aMEH6m4xtO",
        "outputId": "db40bdca-ba84-46dc-9144-95716aa87dcf"
      },
      "execution_count": 138,
      "outputs": [
        {
          "output_type": "execute_result",
          "data": {
            "text/plain": [
              "tensor([[0., 1., 0., 0., 0., 1., 0., 0., 0., 0., 0., 0., 0., 0., 0., 0., 0., 0.,\n",
              "         0., 0.],\n",
              "        [1., 0., 1., 0., 1., 1., 0., 0., 0., 0., 0., 0., 0., 0., 0., 0., 0., 0.,\n",
              "         0., 0.],\n",
              "        [0., 1., 0., 0., 1., 1., 0., 0., 0., 0., 0., 0., 0., 0., 0., 0., 0., 0.,\n",
              "         0., 0.],\n",
              "        [0., 0., 0., 0., 0., 0., 0., 0., 0., 0., 0., 0., 0., 0., 0., 0., 0., 0.,\n",
              "         0., 0.],\n",
              "        [0., 1., 1., 0., 0., 0., 0., 0., 0., 0., 0., 0., 0., 0., 0., 0., 0., 0.,\n",
              "         0., 0.],\n",
              "        [1., 1., 1., 0., 0., 0., 0., 0., 0., 0., 0., 0., 0., 0., 0., 0., 0., 0.,\n",
              "         0., 0.],\n",
              "        [0., 0., 0., 0., 0., 0., 0., 0., 0., 0., 0., 0., 0., 0., 0., 0., 0., 0.,\n",
              "         0., 0.],\n",
              "        [0., 0., 0., 0., 0., 0., 0., 0., 0., 0., 0., 0., 0., 0., 0., 0., 0., 0.,\n",
              "         0., 0.],\n",
              "        [0., 0., 0., 0., 0., 0., 0., 0., 0., 0., 0., 0., 0., 0., 0., 0., 0., 0.,\n",
              "         0., 0.],\n",
              "        [0., 0., 0., 0., 0., 0., 0., 0., 0., 0., 0., 0., 0., 0., 0., 0., 0., 0.,\n",
              "         0., 0.],\n",
              "        [0., 0., 0., 0., 0., 0., 0., 0., 0., 0., 0., 0., 0., 0., 0., 0., 0., 0.,\n",
              "         0., 0.],\n",
              "        [0., 0., 0., 0., 0., 0., 0., 0., 0., 0., 0., 0., 0., 0., 0., 0., 0., 0.,\n",
              "         0., 0.],\n",
              "        [0., 0., 0., 0., 0., 0., 0., 0., 0., 0., 0., 0., 0., 0., 0., 0., 0., 0.,\n",
              "         0., 0.],\n",
              "        [0., 0., 0., 0., 0., 0., 0., 0., 0., 0., 0., 0., 0., 0., 0., 0., 0., 0.,\n",
              "         0., 0.],\n",
              "        [0., 0., 0., 0., 0., 0., 0., 0., 0., 0., 0., 0., 0., 0., 0., 0., 0., 0.,\n",
              "         0., 0.],\n",
              "        [0., 0., 0., 0., 0., 0., 0., 0., 0., 0., 0., 0., 0., 0., 0., 0., 0., 0.,\n",
              "         0., 0.],\n",
              "        [0., 0., 0., 0., 0., 0., 0., 0., 0., 0., 0., 0., 0., 0., 0., 0., 0., 0.,\n",
              "         0., 0.],\n",
              "        [0., 0., 0., 0., 0., 0., 0., 0., 0., 0., 0., 0., 0., 0., 0., 0., 0., 0.,\n",
              "         0., 0.],\n",
              "        [0., 0., 0., 0., 0., 0., 0., 0., 0., 0., 0., 0., 0., 0., 0., 0., 0., 0.,\n",
              "         0., 0.],\n",
              "        [0., 0., 0., 0., 0., 0., 0., 0., 0., 0., 0., 0., 0., 0., 0., 0., 0., 0.,\n",
              "         0., 0.]])"
            ]
          },
          "metadata": {},
          "execution_count": 138
        }
      ]
    },
    {
      "cell_type": "code",
      "source": [
        "# Using the DataLoader for the test set\n",
        "test_load = DataLoader(X_test, batch_size=1, shuffle=True)\n",
        "len(test_load)"
      ],
      "metadata": {
        "colab": {
          "base_uri": "https://localhost:8080/"
        },
        "id": "yjXdMlRzOIeB",
        "outputId": "ff58e27e-f134-4508-faed-492d720efbfe"
      },
      "execution_count": 139,
      "outputs": [
        {
          "output_type": "execute_result",
          "data": {
            "text/plain": [
              "20"
            ]
          },
          "metadata": {},
          "execution_count": 139
        }
      ]
    },
    {
      "cell_type": "code",
      "source": [
        "import numpy as np\n",
        "\n",
        "y_list = []\n",
        "for idx, test in enumerate(test_load):\n",
        "  X_test = test.view(-1, input_size)\n",
        "  y = y_test\n",
        "  y_pred_test = model(X_test)\n",
        "  y_list.append(y_pred_test.detach().numpy())\n",
        "\n",
        "# Stacking is needed if we are plotting\n",
        "y_list = np.vstack(y_list)\n",
        "print(\"prediction finished\")"
      ],
      "metadata": {
        "colab": {
          "base_uri": "https://localhost:8080/"
        },
        "id": "u4Yx64DshIrO",
        "outputId": "bb26b528-8baf-4940-b00c-2e63ad5cc72b"
      },
      "execution_count": 140,
      "outputs": [
        {
          "output_type": "stream",
          "name": "stdout",
          "text": [
            "prediction finished\n"
          ]
        }
      ]
    },
    {
      "cell_type": "code",
      "source": [
        "y_list"
      ],
      "metadata": {
        "colab": {
          "base_uri": "https://localhost:8080/"
        },
        "id": "PbWb4IBz-EqF",
        "outputId": "2c0e111c-251c-4c9c-81a2-02da4f8da80d"
      },
      "execution_count": 141,
      "outputs": [
        {
          "output_type": "execute_result",
          "data": {
            "text/plain": [
              "array([[0.42956296],\n",
              "       [0.4373886 ],\n",
              "       [0.45356858],\n",
              "       [0.45866722],\n",
              "       [0.45207116],\n",
              "       [0.4973036 ],\n",
              "       [0.55958855],\n",
              "       [0.47177202],\n",
              "       [0.50059843],\n",
              "       [0.47591856],\n",
              "       [0.44427505],\n",
              "       [0.4779808 ],\n",
              "       [0.49463713],\n",
              "       [0.45636305],\n",
              "       [0.44622204],\n",
              "       [0.4173969 ],\n",
              "       [0.48859203],\n",
              "       [0.4362883 ],\n",
              "       [0.43611348],\n",
              "       [0.47701815]], dtype=float32)"
            ]
          },
          "metadata": {},
          "execution_count": 141
        }
      ]
    },
    {
      "cell_type": "code",
      "source": [
        "# Plotting the prediction vs actual values of the target value\n",
        "# Note, there is no relationship since the numbers are randomly generated\n",
        "# Hence the prediction is poor \n",
        "# But this code works! Can be used for real data! \n",
        "\n",
        "import matplotlib.pyplot as plt\n",
        "\n",
        "plt.figure(1)\n",
        "plt.plot(y_list, y, 'o')\n",
        "plt.xlabel('Predicted y value')\n",
        "plt.ylabel('Actual y value')\n",
        "plt.show()"
      ],
      "metadata": {
        "colab": {
          "base_uri": "https://localhost:8080/",
          "height": 449
        },
        "id": "OalYUI0J4uU5",
        "outputId": "03b63da7-8b50-45bb-8008-4193677015eb"
      },
      "execution_count": 142,
      "outputs": [
        {
          "output_type": "display_data",
          "data": {
            "text/plain": [
              "<Figure size 640x480 with 1 Axes>"
            ],
            "image/png": "[encoded data removed]"
          },
          "metadata": {}
        }
      ]
    }
  ]
}